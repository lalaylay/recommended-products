{
 "cells": [
  {
   "cell_type": "code",
   "execution_count": 1,
   "id": "6b2f4856",
   "metadata": {},
   "outputs": [],
   "source": [
    "#importing necessary libraries \n",
    "import json\n",
    "import pandas as pd\n",
    "import scipy.sparse as sp\n",
    "from sklearn.feature_extraction.text import CountVectorizer, TfidfVectorizer\n",
    "from sklearn.metrics.pairwise import cosine_similarity\n",
    "\n",
    "from flask import Flask,request,jsonify\n",
    "from flask_cors import CORS\n"
   ]
  },
  {
   "cell_type": "code",
   "execution_count": 2,
   "id": "5746b948",
   "metadata": {},
   "outputs": [],
   "source": [
    "#reading meta data set\n",
    "with open(\"C:/Users/DELL/Desktop/meta.json\",encoding='utf-8') as df:\n",
    "    meta = json.load(df)\n",
    "Meta = pd.DataFrame(meta['meta'])"
   ]
  },
  {
   "cell_type": "code",
   "execution_count": 3,
   "id": "9ace46c4",
   "metadata": {},
   "outputs": [
    {
     "data": {
      "text/plain": [
       "productid      True\n",
       "brand          True\n",
       "category       True\n",
       "subcategory    True\n",
       "name           True\n",
       "dtype: bool"
      ]
     },
     "execution_count": 3,
     "metadata": {},
     "output_type": "execute_result"
    }
   ],
   "source": [
    "#checking missing values in meta data\n",
    "Meta.isnull().any()"
   ]
  },
  {
   "cell_type": "code",
   "execution_count": 4,
   "id": "4bcf5baf",
   "metadata": {},
   "outputs": [],
   "source": [
    "#removing missing values in meta data \n",
    "Meta=Meta.dropna()"
   ]
  },
  {
   "cell_type": "code",
   "execution_count": 5,
   "id": "a2e91f0b",
   "metadata": {},
   "outputs": [],
   "source": [
    "#changing format of columns by making upper case\n",
    "Meta['brand']=Meta['brand'].str.upper()\n",
    "Meta['category']=Meta['category'].str.upper()\n",
    "Meta['subcategory']=Meta['subcategory'].str.upper()\n",
    "Meta['name']=Meta['name'].str.upper()\n",
    "\n",
    "Meta = Meta.replace(',','', regex=True)\n"
   ]
  },
  {
   "cell_type": "code",
   "execution_count": 6,
   "id": "b7c2e87b",
   "metadata": {},
   "outputs": [],
   "source": [
    "#reading event data set\n",
    "with open(\"C:/Users/DELL/Desktop/events.json\",encoding='utf-8') as df2:\n",
    "    Event_Data = json.load(df2)\n",
    "Events = pd.DataFrame(Event_Data['events'])\n"
   ]
  },
  {
   "cell_type": "code",
   "execution_count": 7,
   "id": "3d270f01",
   "metadata": {},
   "outputs": [
    {
     "data": {
      "text/plain": [
       "event        False\n",
       "sessionid    False\n",
       "eventtime    False\n",
       "price         True\n",
       "productid     True\n",
       "dtype: bool"
      ]
     },
     "execution_count": 7,
     "metadata": {},
     "output_type": "execute_result"
    }
   ],
   "source": [
    "#cheking missing values in Events data\n",
    "Events.isnull().any()"
   ]
  },
  {
   "cell_type": "code",
   "execution_count": 8,
   "id": "058d2179",
   "metadata": {},
   "outputs": [],
   "source": [
    "#removing missing values in meta data \n",
    "Events=Events.dropna()"
   ]
  },
  {
   "cell_type": "code",
   "execution_count": 9,
   "id": "28d1b402",
   "metadata": {},
   "outputs": [],
   "source": [
    "#this function creates combining text field by using name, subcategory, brand and category\n",
    "def PhraseData(data):\n",
    "        data_phrase = data.drop(columns=['productid'])\n",
    "        data_phrase['phrase'] = data_phrase[data_phrase.columns[0:4]].apply(lambda x: ','.join(x.dropna().astype(str)),axis=1)\n",
    "        data_phrase= data_phrase.drop(columns=['name','subcategory','brand','category'])\n",
    "       \n",
    "        return data_phrase"
   ]
  },
  {
   "cell_type": "code",
   "execution_count": null,
   "id": "e14e4f23",
   "metadata": {},
   "outputs": [],
   "source": [
    "c=PhraseData(Meta)\n",
    "c.head()"
   ]
  },
  {
   "cell_type": "code",
   "execution_count": 11,
   "id": "9bdb1f40",
   "metadata": {},
   "outputs": [],
   "source": [
    "#this function creates vectors by transformed text columns\n",
    "def TransformedData(data_phrase, data):\n",
    "        object_count = CountVectorizer()\n",
    "        count_matrix = object_count.fit_transform(data['name'])\n",
    "\n",
    "        tfidf = TfidfVectorizer()\n",
    "        tfidf_matrix = tfidf.fit_transform(data_phrase['phrase'])\n",
    "\n",
    "        phrase_sparse = sp.hstack([count_matrix, tfidf_matrix], format='csr')\n",
    "        cosine_sim = cosine_similarity(phrase_sparse, phrase_sparse)\n",
    "        \n",
    "        return cosine_sim"
   ]
  },
  {
   "cell_type": "code",
   "execution_count": 12,
   "id": "cbce5a95",
   "metadata": {},
   "outputs": [
    {
     "name": "stdout",
     "output_type": "stream",
     "text": [
      "[[1.         0.         0.         ... 0.00195029 0.00184491 0.00146839]\n",
      " [0.         1.         0.         ... 0.         0.         0.        ]\n",
      " [0.         0.         1.         ... 0.         0.         0.        ]\n",
      " ...\n",
      " [0.00195029 0.         0.         ... 1.         0.21658714 0.01102765]\n",
      " [0.00184491 0.         0.         ... 0.21658714 1.         0.00868691]\n",
      " [0.00146839 0.         0.         ... 0.01102765 0.00868691 1.        ]]\n"
     ]
    }
   ],
   "source": [
    "t=TransformedData(c,Meta)\n",
    "print(t)"
   ]
  },
  {
   "cell_type": "markdown",
   "id": "3ae2f787",
   "metadata": {},
   "source": [
    "Vector transformed version of 'phase' and 'name' attributes."
   ]
  },
  {
   "cell_type": "code",
   "execution_count": 13,
   "id": "64040aae",
   "metadata": {},
   "outputs": [],
   "source": [
    "#finding products list in the same sessions \n",
    "def FindProductsWithRelatedSessionId(sessionId,dataFrame):\n",
    "\n",
    "    itemsList = []\n",
    "    CardItemsId = []\n",
    "    values = dataFrame.loc[dataFrame[\"sessionid\"] == sessionId]\n",
    "    itemsList.append(list(values[\"productid\"]))\n",
    "    count = 0\n",
    "    for i in range(len(itemsList[0])):\n",
    "        CardItemsId.append(itemsList[0][i])\n",
    "        count = count + 1\n",
    "\n",
    "    ItemsCount = count\n",
    "    print(CardItemsId)\n",
    "    return CardItemsId\n",
    "    "
   ]
  },
  {
   "cell_type": "code",
   "execution_count": 14,
   "id": "2d3488f2",
   "metadata": {},
   "outputs": [
    {
     "name": "stdout",
     "output_type": "stream",
     "text": [
      "['HBV00000U2B18', 'HBV00000NE1S6', 'HBV00000NE1S6', 'HBV00000NE1S6', 'HBV00000NE1S6', 'HBV00000PQOY1', 'HBV00000PVQUP', 'HBV00000O2SGS', 'HBV00000NGSRL', 'ZYBAR7300400117951', 'HBV00000NFMU3', 'HBV00000NFMU3']\n"
     ]
    }
   ],
   "source": [
    "#for example this user has two products in her card\n",
    "cardsitem=FindProductsWithRelatedSessionId('a0655eee-d2ea7bd3-9235-4a9f-a9ea-d7f296e71318',Events)"
   ]
  },
  {
   "cell_type": "code",
   "execution_count": 15,
   "id": "18a33cd5",
   "metadata": {},
   "outputs": [
    {
     "name": "stdout",
     "output_type": "stream",
     "text": [
      "          productid   brand       category subcategory  \\\n",
      "9175  HBV00000U2B18  ORAL-B  KIŞISEL BAKIM  AĞIZ BAKIM   \n",
      "\n",
      "                                               name  \n",
      "9175  DIŞ FIRÇASI YEDEK BAŞLIĞI STAGES ÇOCUK 2 ADET  \n",
      "          productid brand            category subcategory  \\\n",
      "7979  HBV00000NE1S6  İÇIM  KAHVALTILIK VE SÜT         SÜT   \n",
      "\n",
      "                                              name  \n",
      "7979  İÇIM PASTORIZE TAM YAĞLI GÜNLÜK SÜT 1 LT PET  \n",
      "          productid brand            category subcategory  \\\n",
      "7979  HBV00000NE1S6  İÇIM  KAHVALTILIK VE SÜT         SÜT   \n",
      "\n",
      "                                              name  \n",
      "7979  İÇIM PASTORIZE TAM YAĞLI GÜNLÜK SÜT 1 LT PET  \n",
      "          productid brand            category subcategory  \\\n",
      "7979  HBV00000NE1S6  İÇIM  KAHVALTILIK VE SÜT         SÜT   \n",
      "\n",
      "                                              name  \n",
      "7979  İÇIM PASTORIZE TAM YAĞLI GÜNLÜK SÜT 1 LT PET  \n",
      "          productid brand            category subcategory  \\\n",
      "7979  HBV00000NE1S6  İÇIM  KAHVALTILIK VE SÜT         SÜT   \n",
      "\n",
      "                                              name  \n",
      "7979  İÇIM PASTORIZE TAM YAĞLI GÜNLÜK SÜT 1 LT PET  \n",
      "          productid   brand       category subcategory  \\\n",
      "5640  HBV00000PQOY1  ORAL-B  KIŞISEL BAKIM  AĞIZ BAKIM   \n",
      "\n",
      "                                                   name  \n",
      "5640  ORAL-B STAGES ÇOCUKLAR İÇIN DIŞ FIRÇASI YEDEK ...  \n",
      "          productid  brand              category subcategory  \\\n",
      "9436  HBV00000PVQUP  PRITT  OYUNCAK VE KIRTASIYE     BOYALAR   \n",
      "\n",
      "                      name  \n",
      "9436  PRITT GUAJ BOYA 6'LI  \n",
      "Empty DataFrame\n",
      "Columns: [productid, brand, category, subcategory, name]\n",
      "Index: []\n",
      "          productid      brand           category   subcategory  \\\n",
      "7322  HBV00000NGSRL  CARREFOUR  EV YAŞAM VE BAHÇE  EV GEREÇLERI   \n",
      "\n",
      "                                                name  \n",
      "7322  CARREFOUR 15'LI BÜZGÜLÜ ÇÖP TORBASI 65 X 70 CM  \n",
      "               productid brand          category    subcategory  \\\n",
      "5466  ZYBAR7300400117951  WASA  ORGANIK VE DIYET  DIYET ÜRÜNLER   \n",
      "\n",
      "                                                name  \n",
      "5466  WASA İNCE GEVREK EKMEK / CRISPBREAD DELIKATESS  \n",
      "          productid      brand          category  \\\n",
      "1572  HBV00000NFMU3  CARREFOUR  ORGANIK VE DIYET   \n",
      "\n",
      "                       subcategory                                     name  \n",
      "1572  ORGANIK KURUYEMIŞ KURU MEYVE  CARREFOUR BIO ORGANIK GÜN KURUSU 160 GR  \n",
      "          productid      brand          category  \\\n",
      "1572  HBV00000NFMU3  CARREFOUR  ORGANIK VE DIYET   \n",
      "\n",
      "                       subcategory                                     name  \n",
      "1572  ORGANIK KURUYEMIŞ KURU MEYVE  CARREFOUR BIO ORGANIK GÜN KURUSU 160 GR  \n"
     ]
    }
   ],
   "source": [
    "#creating explanation of items in cart\n",
    "for i in range(len(cardsitem)):\n",
    "    itemsList = []\n",
    "    values = Meta.loc[Meta[\"productid\"] == cardsitem[i]]\n",
    "    itemsList.append(list(values[\"name\"]))\n",
    "    print(values)\n",
    "                           "
   ]
  },
  {
   "cell_type": "code",
   "execution_count": 16,
   "id": "e6956c7b",
   "metadata": {},
   "outputs": [],
   "source": [
    "#final recommendation function that returns top 10 related products in the same session\n",
    "def RecommendedProducts(cardlist, data, combine, transform):\n",
    "        \n",
    "        newlist = list(dict.fromkeys(cardlist))\n",
    "        simScoresForAllProducts =  list()\n",
    "        for i in range(len(newlist)):\n",
    "            \n",
    "            try:\n",
    "                indices = pd.Series(data.index, index = data['productid'])\n",
    "                #print(indices['HBV00000NVZE8'])\n",
    "                # print(cardlist[i])\n",
    "                index = indices[newlist[i]]\n",
    "\n",
    "                sim_scores = list(enumerate(transform[index]))\n",
    "                sim_scores = sorted(sim_scores, key=lambda x: x[1], reverse=True)\n",
    "                sim_scores = sim_scores[1:11]\n",
    "\n",
    "                for i in range(len(sim_scores)):\n",
    "                    simScoresForAllProducts.append(sim_scores[i])\n",
    "            except:\n",
    "                print(\"Product has no brand\")\n",
    "\n",
    "        \n",
    "        simScoresForAllProducts.sort()\n",
    "        print(simScoresForAllProducts)\n",
    "        \n",
    "        product_indices = [i[0] for i in simScoresForAllProducts[1:11]]\n",
    "\n",
    "        product_id = data['productid'].iloc[product_indices]\n",
    "        product_brand = data['brand'].iloc[product_indices]\n",
    "        product_category = data['category'].iloc[product_indices]\n",
    "        product_subcategory = data['subcategory'].iloc[product_indices]\n",
    "        product_name = data['name'].iloc[product_indices]\n",
    "\n",
    "        recommendation_data = pd.DataFrame(columns=['productid','brand', 'category','subcategory','name'])\n",
    "\n",
    "        recommendation_data['productid'] = product_id\n",
    "        recommendation_data['brand'] = product_brand\n",
    "        recommendation_data['category'] = product_category\n",
    "        recommendation_data['subcategory'] = product_subcategory\n",
    "        recommendation_data['name'] = product_name\n",
    "\n",
    "        return recommendation_data"
   ]
  },
  {
   "cell_type": "code",
   "execution_count": 17,
   "id": "76d2bd8c",
   "metadata": {},
   "outputs": [
    {
     "name": "stdout",
     "output_type": "stream",
     "text": [
      "Product has no brand\n",
      "[(134, 0.6387672866124542), (239, 0.536218017745264), (243, 0.3861344203244569), (385, 0.2188381618488833), (1346, 0.47385012050342123), (1565, 0.6461689572634213), (1601, 0.529964168043756), (1712, 0.31162479869036736), (1773, 0.6040475504900477), (1873, 0.892673324478071), (1935, 0.2188381618488833), (2021, 0.5348260870184335), (2040, 0.5252697470306805), (2581, 0.6391727713032002), (2725, 0.6148965791528653), (3142, 0.7226849561152398), (3292, 0.17554228838268354), (3449, 0.6508572619583131), (3504, 0.49717157747450996), (3506, 0.375454199966814), (3599, 0.5201129017785204), (3621, 0.3205790434906542), (3674, 0.41438354836911456), (3732, 0.5298945882893689), (3913, 0.38704417503767913), (3951, 0.30647541759089214), (4112, 0.37446986056602644), (4466, 0.6179964299781096), (4503, 0.5245648491650026), (4516, 0.505959193208145), (4612, 0.2260669899880376), (4743, 0.22606698998803756), (5394, 0.7640662681783955), (5406, 0.1978552472350105), (5643, 0.6389063514991251), (5817, 0.42377770772047035), (6082, 0.7794475470708204), (6232, 0.3928344318325414), (6390, 0.2188381618488833), (6467, 0.3854720268600546), (6664, 0.5326735474600155), (6700, 0.6069434883670776), (6774, 0.36299022310706114), (6848, 0.3083120771822894), (6877, 0.36934801295751585), (6933, 0.5420331880288533), (6989, 0.43616339842449336), (7064, 0.3642191001050549), (7066, 0.8208863807829352), (7194, 0.4726616900764692), (7215, 0.7314506362097903), (7422, 0.38896206119042187), (7604, 0.42348413031776333), (7664, 0.2188381618488833), (7808, 0.36743547166213836), (7822, 0.7649122560293763), (7871, 0.3645201437811507), (7887, 0.47421158327214297), (7973, 0.7013853229027993), (8067, 0.2188381618488833), (8304, 0.4696167035877476), (8615, 0.6449323151360502), (8675, 0.37488233189283016), (8747, 0.37365699363395755), (8829, 0.4728676743566235), (9242, 0.7412371308932518), (9253, 0.5375856504582054), (9456, 0.605274934614576), (9525, 0.5060197914737099), (9677, 0.7661646541251728)]\n",
      "          productid              brand              category  \\\n",
      "251   HBV00000NFMLA          CARREFOUR            TEMEL GIDA   \n",
      "257   HBV00000OE7R9             AKMINA             İÇECEKLER   \n",
      "407       KDBR90003  DOĞAN BURDA DERGI  OYUNCAK VE KIRTASIYE   \n",
      "1412  HBV00000PVR36             VILEDA  EV BAKIM VE TEMIZLIK   \n",
      "1643  HBV00000PV7ED                 FA    SAĞLIK VE KOZMETIK   \n",
      "1679  HBV00000NE0ZQ          CARREFOUR            TEMEL GIDA   \n",
      "1795  HBV00000SP811              ÜLKER                 TATLI   \n",
      "1858  HBV00000SPIEV            GARNIER    SAĞLIK VE KOZMETIK   \n",
      "1965  HBV00000PVR3E             VILEDA  EV BAKIM VE TEMIZLIK   \n",
      "2030      KDBR13116  DOĞAN BURDA DERGI  OYUNCAK VE KIRTASIYE   \n",
      "\n",
      "                 subcategory  \\\n",
      "251   BAHARAT HARÇ VE BULYON   \n",
      "257             MADEN SULARI   \n",
      "407          GAZETE VE DERGI   \n",
      "1412    EV TEMIZLIK ÜRÜNLERI   \n",
      "1643        PARFÜM DEODORANT   \n",
      "1679  BAHARAT HARÇ VE BULYON   \n",
      "1795       TATLI MALZEMELERI   \n",
      "1858        PARFÜM DEODORANT   \n",
      "1965    EV TEMIZLIK ÜRÜNLERI   \n",
      "2030         GAZETE VE DERGI   \n",
      "\n",
      "                                                   name  \n",
      "251                                CARREFOUR NANE 70 GR  \n",
      "257                  AKMINA EXTRA MADEN SUYU CAM 200 ML  \n",
      "407                                               ATLAS  \n",
      "1412             VILEDA EXTRA SENSATION ELDIVEN (KÜÇÜK)  \n",
      "1643                          SPORT ERKEK ROLL-ON 50 ML  \n",
      "1679                               CARREFOUR KÖRI 70 GR  \n",
      "1795           BIZIM MUTFAK KREM ŞANTI 2\"LI POŞET 75 GR  \n",
      "1858                   ERKEK ROLL-ON GÜÇLÜ KORUMA 50 ML  \n",
      "1965  VILEDA KULLAN AT ELDIVEN MULTI 10'LU (BÜYÜK-ORTA)  \n",
      "2030                                              LEVEL  \n"
     ]
    }
   ],
   "source": [
    "recommendations=RecommendedProducts(cardsitem, Meta, c, t)\n",
    "print(recommendations)"
   ]
  },
  {
   "cell_type": "code",
   "execution_count": 18,
   "id": "9b29159f",
   "metadata": {},
   "outputs": [
    {
     "name": "stdout",
     "output_type": "stream",
     "text": [
      "[{'productid': 'HBV00000NFMLA', 'brand': 'CARREFOUR', 'category': 'TEMEL GIDA', 'subcategory': 'BAHARAT HARÇ VE BULYON', 'name': 'CARREFOUR NANE 70 GR'}, {'productid': 'HBV00000OE7R9', 'brand': 'AKMINA', 'category': 'İÇECEKLER', 'subcategory': 'MADEN SULARI', 'name': 'AKMINA EXTRA MADEN SUYU CAM 200 ML'}, {'productid': 'KDBR90003', 'brand': 'DOĞAN BURDA DERGI', 'category': 'OYUNCAK VE KIRTASIYE', 'subcategory': 'GAZETE VE DERGI', 'name': 'ATLAS'}, {'productid': 'HBV00000PVR36', 'brand': 'VILEDA', 'category': 'EV BAKIM VE TEMIZLIK', 'subcategory': 'EV TEMIZLIK ÜRÜNLERI', 'name': 'VILEDA EXTRA SENSATION ELDIVEN (KÜÇÜK)'}, {'productid': 'HBV00000PV7ED', 'brand': 'FA', 'category': 'SAĞLIK VE KOZMETIK', 'subcategory': 'PARFÜM DEODORANT', 'name': 'SPORT ERKEK ROLL-ON 50 ML'}, {'productid': 'HBV00000NE0ZQ', 'brand': 'CARREFOUR', 'category': 'TEMEL GIDA', 'subcategory': 'BAHARAT HARÇ VE BULYON', 'name': 'CARREFOUR KÖRI 70 GR'}, {'productid': 'HBV00000SP811', 'brand': 'ÜLKER', 'category': 'TATLI', 'subcategory': 'TATLI MALZEMELERI', 'name': 'BIZIM MUTFAK KREM ŞANTI 2\"LI POŞET 75 GR'}, {'productid': 'HBV00000SPIEV', 'brand': 'GARNIER', 'category': 'SAĞLIK VE KOZMETIK', 'subcategory': 'PARFÜM DEODORANT', 'name': 'ERKEK ROLL-ON GÜÇLÜ KORUMA 50 ML'}, {'productid': 'HBV00000PVR3E', 'brand': 'VILEDA', 'category': 'EV BAKIM VE TEMIZLIK', 'subcategory': 'EV TEMIZLIK ÜRÜNLERI', 'name': \"VILEDA KULLAN AT ELDIVEN MULTI 10'LU (BÜYÜK-ORTA)\"}, {'productid': 'KDBR13116', 'brand': 'DOĞAN BURDA DERGI', 'category': 'OYUNCAK VE KIRTASIYE', 'subcategory': 'GAZETE VE DERGI', 'name': 'LEVEL'}]\n"
     ]
    }
   ],
   "source": [
    "#recommended top 10 products for \n",
    "recommendation_dict=recommendations.to_dict(\"records\")\n",
    "print(recommendation_dict)"
   ]
  },
  {
   "cell_type": "code",
   "execution_count": null,
   "id": "972aea60",
   "metadata": {},
   "outputs": [
    {
     "name": "stdout",
     "output_type": "stream",
     "text": [
      " * Serving Flask app \"__main__\" (lazy loading)\n",
      " * Environment: production\n",
      "\u001b[31m   WARNING: This is a development server. Do not use it in a production deployment.\u001b[0m\n",
      "\u001b[2m   Use a production WSGI server instead.\u001b[0m\n",
      " * Debug mode: off\n"
     ]
    },
    {
     "name": "stderr",
     "output_type": "stream",
     "text": [
      " * Running on all addresses.\n",
      "   WARNING: This is a development server. Do not use it in a production deployment.\n",
      " * Running on http://192.168.1.5:5000/ (Press CTRL+C to quit)\n",
      "192.168.1.5 - - [02/Jun/2022 22:24:27] \"GET /events?sessionid=a0655eee-d2ea7bd3-9235-4a9f-a9ea-d7f296e71318 HTTP/1.1\" 200 -\n"
     ]
    },
    {
     "name": "stdout",
     "output_type": "stream",
     "text": [
      "[]\n",
      "Product has no brand\n",
      "[(134, 0.6387672866124542), (239, 0.536218017745264), (243, 0.3861344203244569), (385, 0.2188381618488833), (1346, 0.47385012050342123), (1565, 0.6461689572634213), (1601, 0.529964168043756), (1712, 0.31162479869036736), (1773, 0.6040475504900477), (1873, 0.892673324478071), (1935, 0.2188381618488833), (2021, 0.5348260870184335), (2040, 0.5252697470306805), (2581, 0.6391727713032002), (2725, 0.6148965791528653), (3142, 0.7226849561152398), (3292, 0.17554228838268354), (3449, 0.6508572619583131), (3504, 0.49717157747450996), (3506, 0.375454199966814), (3599, 0.5201129017785204), (3621, 0.3205790434906542), (3674, 0.41438354836911456), (3732, 0.5298945882893689), (3913, 0.38704417503767913), (3951, 0.30647541759089214), (4112, 0.37446986056602644), (4466, 0.6179964299781096), (4503, 0.5245648491650026), (4516, 0.505959193208145), (4612, 0.2260669899880376), (4743, 0.22606698998803756), (5394, 0.7640662681783955), (5406, 0.1978552472350105), (5643, 0.6389063514991251), (5817, 0.42377770772047035), (6082, 0.7794475470708204), (6232, 0.3928344318325414), (6390, 0.2188381618488833), (6467, 0.3854720268600546), (6664, 0.5326735474600155), (6700, 0.6069434883670776), (6774, 0.36299022310706114), (6848, 0.3083120771822894), (6877, 0.36934801295751585), (6933, 0.5420331880288533), (6989, 0.43616339842449336), (7064, 0.3642191001050549), (7066, 0.8208863807829352), (7194, 0.4726616900764692), (7215, 0.7314506362097903), (7422, 0.38896206119042187), (7604, 0.42348413031776333), (7664, 0.2188381618488833), (7808, 0.36743547166213836), (7822, 0.7649122560293763), (7871, 0.3645201437811507), (7887, 0.47421158327214297), (7973, 0.7013853229027993), (8067, 0.2188381618488833), (8304, 0.4696167035877476), (8615, 0.6449323151360502), (8675, 0.37488233189283016), (8747, 0.37365699363395755), (8829, 0.4728676743566235), (9242, 0.7412371308932518), (9253, 0.5375856504582054), (9456, 0.605274934614576), (9525, 0.5060197914737099), (9677, 0.7661646541251728)]\n",
      "          productid              brand              category  \\\n",
      "251   HBV00000NFMLA          CARREFOUR            TEMEL GIDA   \n",
      "257   HBV00000OE7R9             AKMINA             İÇECEKLER   \n",
      "407       KDBR90003  DOĞAN BURDA DERGI  OYUNCAK VE KIRTASIYE   \n",
      "1412  HBV00000PVR36             VILEDA  EV BAKIM VE TEMIZLIK   \n",
      "1643  HBV00000PV7ED                 FA    SAĞLIK VE KOZMETIK   \n",
      "1679  HBV00000NE0ZQ          CARREFOUR            TEMEL GIDA   \n",
      "1795  HBV00000SP811              ÜLKER                 TATLI   \n",
      "1858  HBV00000SPIEV            GARNIER    SAĞLIK VE KOZMETIK   \n",
      "1965  HBV00000PVR3E             VILEDA  EV BAKIM VE TEMIZLIK   \n",
      "2030      KDBR13116  DOĞAN BURDA DERGI  OYUNCAK VE KIRTASIYE   \n",
      "\n",
      "                 subcategory  \\\n",
      "251   BAHARAT HARÇ VE BULYON   \n",
      "257             MADEN SULARI   \n",
      "407          GAZETE VE DERGI   \n",
      "1412    EV TEMIZLIK ÜRÜNLERI   \n",
      "1643        PARFÜM DEODORANT   \n",
      "1679  BAHARAT HARÇ VE BULYON   \n",
      "1795       TATLI MALZEMELERI   \n",
      "1858        PARFÜM DEODORANT   \n",
      "1965    EV TEMIZLIK ÜRÜNLERI   \n",
      "2030         GAZETE VE DERGI   \n",
      "\n",
      "                                                   name  \n",
      "251                                CARREFOUR NANE 70 GR  \n",
      "257                  AKMINA EXTRA MADEN SUYU CAM 200 ML  \n",
      "407                                               ATLAS  \n",
      "1412             VILEDA EXTRA SENSATION ELDIVEN (KÜÇÜK)  \n",
      "1643                          SPORT ERKEK ROLL-ON 50 ML  \n",
      "1679                               CARREFOUR KÖRI 70 GR  \n",
      "1795           BIZIM MUTFAK KREM ŞANTI 2\"LI POŞET 75 GR  \n",
      "1858                   ERKEK ROLL-ON GÜÇLÜ KORUMA 50 ML  \n",
      "1965  VILEDA KULLAN AT ELDIVEN MULTI 10'LU (BÜYÜK-ORTA)  \n",
      "2030                                              LEVEL  \n"
     ]
    },
    {
     "name": "stderr",
     "output_type": "stream",
     "text": [
      "192.168.1.5 - - [02/Jun/2022 22:24:35] \"GET /events?sessionid=a0655eee-d2ea7bd3-9235-4a9f-a9ea-d7f296e71318 HTTP/1.1\" 200 -\n"
     ]
    },
    {
     "name": "stdout",
     "output_type": "stream",
     "text": [
      "[]\n",
      "Product has no brand\n",
      "[(134, 0.6387672866124542), (239, 0.536218017745264), (243, 0.3861344203244569), (385, 0.2188381618488833), (1346, 0.47385012050342123), (1565, 0.6461689572634213), (1601, 0.529964168043756), (1712, 0.31162479869036736), (1773, 0.6040475504900477), (1873, 0.892673324478071), (1935, 0.2188381618488833), (2021, 0.5348260870184335), (2040, 0.5252697470306805), (2581, 0.6391727713032002), (2725, 0.6148965791528653), (3142, 0.7226849561152398), (3292, 0.17554228838268354), (3449, 0.6508572619583131), (3504, 0.49717157747450996), (3506, 0.375454199966814), (3599, 0.5201129017785204), (3621, 0.3205790434906542), (3674, 0.41438354836911456), (3732, 0.5298945882893689), (3913, 0.38704417503767913), (3951, 0.30647541759089214), (4112, 0.37446986056602644), (4466, 0.6179964299781096), (4503, 0.5245648491650026), (4516, 0.505959193208145), (4612, 0.2260669899880376), (4743, 0.22606698998803756), (5394, 0.7640662681783955), (5406, 0.1978552472350105), (5643, 0.6389063514991251), (5817, 0.42377770772047035), (6082, 0.7794475470708204), (6232, 0.3928344318325414), (6390, 0.2188381618488833), (6467, 0.3854720268600546), (6664, 0.5326735474600155), (6700, 0.6069434883670776), (6774, 0.36299022310706114), (6848, 0.3083120771822894), (6877, 0.36934801295751585), (6933, 0.5420331880288533), (6989, 0.43616339842449336), (7064, 0.3642191001050549), (7066, 0.8208863807829352), (7194, 0.4726616900764692), (7215, 0.7314506362097903), (7422, 0.38896206119042187), (7604, 0.42348413031776333), (7664, 0.2188381618488833), (7808, 0.36743547166213836), (7822, 0.7649122560293763), (7871, 0.3645201437811507), (7887, 0.47421158327214297), (7973, 0.7013853229027993), (8067, 0.2188381618488833), (8304, 0.4696167035877476), (8615, 0.6449323151360502), (8675, 0.37488233189283016), (8747, 0.37365699363395755), (8829, 0.4728676743566235), (9242, 0.7412371308932518), (9253, 0.5375856504582054), (9456, 0.605274934614576), (9525, 0.5060197914737099), (9677, 0.7661646541251728)]\n",
      "          productid              brand              category  \\\n",
      "251   HBV00000NFMLA          CARREFOUR            TEMEL GIDA   \n",
      "257   HBV00000OE7R9             AKMINA             İÇECEKLER   \n",
      "407       KDBR90003  DOĞAN BURDA DERGI  OYUNCAK VE KIRTASIYE   \n",
      "1412  HBV00000PVR36             VILEDA  EV BAKIM VE TEMIZLIK   \n",
      "1643  HBV00000PV7ED                 FA    SAĞLIK VE KOZMETIK   \n",
      "1679  HBV00000NE0ZQ          CARREFOUR            TEMEL GIDA   \n",
      "1795  HBV00000SP811              ÜLKER                 TATLI   \n",
      "1858  HBV00000SPIEV            GARNIER    SAĞLIK VE KOZMETIK   \n",
      "1965  HBV00000PVR3E             VILEDA  EV BAKIM VE TEMIZLIK   \n",
      "2030      KDBR13116  DOĞAN BURDA DERGI  OYUNCAK VE KIRTASIYE   \n",
      "\n",
      "                 subcategory  \\\n",
      "251   BAHARAT HARÇ VE BULYON   \n",
      "257             MADEN SULARI   \n",
      "407          GAZETE VE DERGI   \n",
      "1412    EV TEMIZLIK ÜRÜNLERI   \n",
      "1643        PARFÜM DEODORANT   \n",
      "1679  BAHARAT HARÇ VE BULYON   \n",
      "1795       TATLI MALZEMELERI   \n",
      "1858        PARFÜM DEODORANT   \n",
      "1965    EV TEMIZLIK ÜRÜNLERI   \n",
      "2030         GAZETE VE DERGI   \n",
      "\n",
      "                                                   name  \n",
      "251                                CARREFOUR NANE 70 GR  \n",
      "257                  AKMINA EXTRA MADEN SUYU CAM 200 ML  \n",
      "407                                               ATLAS  \n",
      "1412             VILEDA EXTRA SENSATION ELDIVEN (KÜÇÜK)  \n",
      "1643                          SPORT ERKEK ROLL-ON 50 ML  \n",
      "1679                               CARREFOUR KÖRI 70 GR  \n",
      "1795           BIZIM MUTFAK KREM ŞANTI 2\"LI POŞET 75 GR  \n",
      "1858                   ERKEK ROLL-ON GÜÇLÜ KORUMA 50 ML  \n",
      "1965  VILEDA KULLAN AT ELDIVEN MULTI 10'LU (BÜYÜK-ORTA)  \n",
      "2030                                              LEVEL  \n"
     ]
    },
    {
     "name": "stderr",
     "output_type": "stream",
     "text": [
      "192.168.1.5 - - [02/Jun/2022 22:24:44] \"GET /events?sessionid=a0655eee-d2ea7bd3-9235-4a9f-a9ea-d7f296e71318 HTTP/1.1\" 200 -\n"
     ]
    },
    {
     "name": "stdout",
     "output_type": "stream",
     "text": [
      "[]\n",
      "Product has no brand\n",
      "[(134, 0.6387672866124542), (239, 0.536218017745264), (243, 0.3861344203244569), (385, 0.2188381618488833), (1346, 0.47385012050342123), (1565, 0.6461689572634213), (1601, 0.529964168043756), (1712, 0.31162479869036736), (1773, 0.6040475504900477), (1873, 0.892673324478071), (1935, 0.2188381618488833), (2021, 0.5348260870184335), (2040, 0.5252697470306805), (2581, 0.6391727713032002), (2725, 0.6148965791528653), (3142, 0.7226849561152398), (3292, 0.17554228838268354), (3449, 0.6508572619583131), (3504, 0.49717157747450996), (3506, 0.375454199966814), (3599, 0.5201129017785204), (3621, 0.3205790434906542), (3674, 0.41438354836911456), (3732, 0.5298945882893689), (3913, 0.38704417503767913), (3951, 0.30647541759089214), (4112, 0.37446986056602644), (4466, 0.6179964299781096), (4503, 0.5245648491650026), (4516, 0.505959193208145), (4612, 0.2260669899880376), (4743, 0.22606698998803756), (5394, 0.7640662681783955), (5406, 0.1978552472350105), (5643, 0.6389063514991251), (5817, 0.42377770772047035), (6082, 0.7794475470708204), (6232, 0.3928344318325414), (6390, 0.2188381618488833), (6467, 0.3854720268600546), (6664, 0.5326735474600155), (6700, 0.6069434883670776), (6774, 0.36299022310706114), (6848, 0.3083120771822894), (6877, 0.36934801295751585), (6933, 0.5420331880288533), (6989, 0.43616339842449336), (7064, 0.3642191001050549), (7066, 0.8208863807829352), (7194, 0.4726616900764692), (7215, 0.7314506362097903), (7422, 0.38896206119042187), (7604, 0.42348413031776333), (7664, 0.2188381618488833), (7808, 0.36743547166213836), (7822, 0.7649122560293763), (7871, 0.3645201437811507), (7887, 0.47421158327214297), (7973, 0.7013853229027993), (8067, 0.2188381618488833), (8304, 0.4696167035877476), (8615, 0.6449323151360502), (8675, 0.37488233189283016), (8747, 0.37365699363395755), (8829, 0.4728676743566235), (9242, 0.7412371308932518), (9253, 0.5375856504582054), (9456, 0.605274934614576), (9525, 0.5060197914737099), (9677, 0.7661646541251728)]\n",
      "          productid              brand              category  \\\n",
      "251   HBV00000NFMLA          CARREFOUR            TEMEL GIDA   \n",
      "257   HBV00000OE7R9             AKMINA             İÇECEKLER   \n",
      "407       KDBR90003  DOĞAN BURDA DERGI  OYUNCAK VE KIRTASIYE   \n",
      "1412  HBV00000PVR36             VILEDA  EV BAKIM VE TEMIZLIK   \n",
      "1643  HBV00000PV7ED                 FA    SAĞLIK VE KOZMETIK   \n",
      "1679  HBV00000NE0ZQ          CARREFOUR            TEMEL GIDA   \n",
      "1795  HBV00000SP811              ÜLKER                 TATLI   \n",
      "1858  HBV00000SPIEV            GARNIER    SAĞLIK VE KOZMETIK   \n",
      "1965  HBV00000PVR3E             VILEDA  EV BAKIM VE TEMIZLIK   \n",
      "2030      KDBR13116  DOĞAN BURDA DERGI  OYUNCAK VE KIRTASIYE   \n",
      "\n",
      "                 subcategory  \\\n",
      "251   BAHARAT HARÇ VE BULYON   \n",
      "257             MADEN SULARI   \n",
      "407          GAZETE VE DERGI   \n",
      "1412    EV TEMIZLIK ÜRÜNLERI   \n",
      "1643        PARFÜM DEODORANT   \n",
      "1679  BAHARAT HARÇ VE BULYON   \n",
      "1795       TATLI MALZEMELERI   \n",
      "1858        PARFÜM DEODORANT   \n",
      "1965    EV TEMIZLIK ÜRÜNLERI   \n",
      "2030         GAZETE VE DERGI   \n",
      "\n",
      "                                                   name  \n",
      "251                                CARREFOUR NANE 70 GR  \n",
      "257                  AKMINA EXTRA MADEN SUYU CAM 200 ML  \n",
      "407                                               ATLAS  \n",
      "1412             VILEDA EXTRA SENSATION ELDIVEN (KÜÇÜK)  \n",
      "1643                          SPORT ERKEK ROLL-ON 50 ML  \n",
      "1679                               CARREFOUR KÖRI 70 GR  \n",
      "1795           BIZIM MUTFAK KREM ŞANTI 2\"LI POŞET 75 GR  \n",
      "1858                   ERKEK ROLL-ON GÜÇLÜ KORUMA 50 ML  \n",
      "1965  VILEDA KULLAN AT ELDIVEN MULTI 10'LU (BÜYÜK-ORTA)  \n",
      "2030                                              LEVEL  \n"
     ]
    }
   ],
   "source": [
    "#api application\n",
    "#it could be tested with Postman\n",
    "#after running Postman get the link of session and run\n",
    "#for a0655eee-1267-4820-af21-ad8ac068ff7a session use 'http://192.168.1.5:5000/events?sessionid=a0655eee-d2ea7bd3-9235-4a9f-a9ea-d7f296e71318'\n",
    "app = Flask(__name__)\n",
    "CORS(app) \n",
    "        \n",
    "@app.route('/events', methods=['GET'])\n",
    "def Recommended_Products():\n",
    "\n",
    "        SessionId =  request.args.get('sessionid')\n",
    "        CardList = FindProductsWithRelatedSessionId(SessionId,Events)\n",
    "        RecommendData = RecommendedProducts(cardsitem, Meta, c, t)\n",
    "        recommendation_dict=RecommendData.to_dict(\"records\")\n",
    "        print(recommendations)\n",
    "        \n",
    "        return jsonify(recommendation_dict)\n",
    "\n",
    "app.run(host='0.0.0.0')"
   ]
  },
  {
   "cell_type": "code",
   "execution_count": null,
   "id": "1ae7476b",
   "metadata": {},
   "outputs": [],
   "source": []
  },
  {
   "cell_type": "code",
   "execution_count": null,
   "id": "c55e5403",
   "metadata": {},
   "outputs": [],
   "source": []
  }
 ],
 "metadata": {
  "kernelspec": {
   "display_name": "Python 3 (ipykernel)",
   "language": "python",
   "name": "python3"
  },
  "language_info": {
   "codemirror_mode": {
    "name": "ipython",
    "version": 3
   },
   "file_extension": ".py",
   "mimetype": "text/x-python",
   "name": "python",
   "nbconvert_exporter": "python",
   "pygments_lexer": "ipython3",
   "version": "3.9.7"
  }
 },
 "nbformat": 4,
 "nbformat_minor": 5
}
