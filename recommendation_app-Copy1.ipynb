{
 "cells": [
  {
   "cell_type": "code",
   "execution_count": 1,
   "id": "6b2f4856",
   "metadata": {},
   "outputs": [],
   "source": [
    "import json\n",
    "import pandas as pd\n",
    "import scipy.sparse as sp\n",
    "from sklearn.feature_extraction.text import CountVectorizer, TfidfVectorizer\n",
    "from sklearn.metrics.pairwise import cosine_similarity\n",
    "\n",
    "from flask import Flask,request,jsonify\n",
    "from flask_cors import CORS\n"
   ]
  },
  {
   "cell_type": "code",
   "execution_count": 2,
   "id": "a2e91f0b",
   "metadata": {},
   "outputs": [],
   "source": [
    "with open(\"C:/Users/DELL/Desktop/meta.json\",encoding='utf-8') as df:\n",
    "    meta = json.load(df)\n",
    "Meta = pd.DataFrame(meta['meta'])\n",
    "Meta=Meta.dropna()\n",
    "\n",
    "Meta['brand']=Meta['brand'].str.upper()\n",
    "Meta['category']=Meta['category'].str.upper()\n",
    "Meta['subcategory']=Meta['subcategory'].str.upper()\n",
    "Meta['name']=Meta['name'].str.upper()\n",
    "\n",
    "Meta = Meta.replace(',','', regex=True)\n"
   ]
  },
  {
   "cell_type": "code",
   "execution_count": 3,
   "id": "b7c2e87b",
   "metadata": {},
   "outputs": [],
   "source": [
    "with open(\"C:/Users/DELL/Desktop/events.json\",encoding='utf-8') as df2:\n",
    "    Event_Data = json.load(df2)\n",
    "Events = pd.DataFrame(Event_Data['events'])\n",
    "Events=Events.dropna()"
   ]
  },
  {
   "cell_type": "code",
   "execution_count": 4,
   "id": "058d2179",
   "metadata": {},
   "outputs": [],
   "source": [
    "Meta = Meta.replace(',','', regex=True)"
   ]
  },
  {
   "cell_type": "code",
   "execution_count": 5,
   "id": "a532fb4f",
   "metadata": {},
   "outputs": [
    {
     "data": {
      "text/html": [
       "<div>\n",
       "<style scoped>\n",
       "    .dataframe tbody tr th:only-of-type {\n",
       "        vertical-align: middle;\n",
       "    }\n",
       "\n",
       "    .dataframe tbody tr th {\n",
       "        vertical-align: top;\n",
       "    }\n",
       "\n",
       "    .dataframe thead th {\n",
       "        text-align: right;\n",
       "    }\n",
       "</style>\n",
       "<table border=\"1\" class=\"dataframe\">\n",
       "  <thead>\n",
       "    <tr style=\"text-align: right;\">\n",
       "      <th></th>\n",
       "      <th>event</th>\n",
       "      <th>sessionid</th>\n",
       "      <th>eventtime</th>\n",
       "      <th>price</th>\n",
       "      <th>productid</th>\n",
       "    </tr>\n",
       "  </thead>\n",
       "  <tbody>\n",
       "    <tr>\n",
       "      <th>0</th>\n",
       "      <td>cart</td>\n",
       "      <td>a0655eee-1267-4820-af21-ad8ac068ff7a</td>\n",
       "      <td>2020-06-01T08:59:16.406Z</td>\n",
       "      <td>14.48</td>\n",
       "      <td>HBV00000NVZE8</td>\n",
       "    </tr>\n",
       "    <tr>\n",
       "      <th>1</th>\n",
       "      <td>cart</td>\n",
       "      <td>d2ea7bd3-9235-4a9f-a9ea-d7f296e71318</td>\n",
       "      <td>2020-06-01T08:59:46.580Z</td>\n",
       "      <td>49.90</td>\n",
       "      <td>HBV00000U2B18</td>\n",
       "    </tr>\n",
       "    <tr>\n",
       "      <th>2</th>\n",
       "      <td>cart</td>\n",
       "      <td>5e594788-78a0-44dd-8e66-37022d48f691</td>\n",
       "      <td>2020-06-01T08:59:33.308Z</td>\n",
       "      <td>1.99</td>\n",
       "      <td>OFIS3101-080</td>\n",
       "    </tr>\n",
       "    <tr>\n",
       "      <th>3</th>\n",
       "      <td>cart</td>\n",
       "      <td>fdfeb652-22fa-4153-b9b5-4dfa0dcaffdf</td>\n",
       "      <td>2020-06-01T08:59:31.911Z</td>\n",
       "      <td>2.25</td>\n",
       "      <td>HBV00000NVZBW</td>\n",
       "    </tr>\n",
       "    <tr>\n",
       "      <th>4</th>\n",
       "      <td>cart</td>\n",
       "      <td>9e9d4f7e-898c-40fb-aae9-256c40779933</td>\n",
       "      <td>2020-06-01T08:59:33.888Z</td>\n",
       "      <td>9.95</td>\n",
       "      <td>HBV00000NE0T4</td>\n",
       "    </tr>\n",
       "  </tbody>\n",
       "</table>\n",
       "</div>"
      ],
      "text/plain": [
       "  event                             sessionid                 eventtime  \\\n",
       "0  cart  a0655eee-1267-4820-af21-ad8ac068ff7a  2020-06-01T08:59:16.406Z   \n",
       "1  cart  d2ea7bd3-9235-4a9f-a9ea-d7f296e71318  2020-06-01T08:59:46.580Z   \n",
       "2  cart  5e594788-78a0-44dd-8e66-37022d48f691  2020-06-01T08:59:33.308Z   \n",
       "3  cart  fdfeb652-22fa-4153-b9b5-4dfa0dcaffdf  2020-06-01T08:59:31.911Z   \n",
       "4  cart  9e9d4f7e-898c-40fb-aae9-256c40779933  2020-06-01T08:59:33.888Z   \n",
       "\n",
       "   price      productid  \n",
       "0  14.48  HBV00000NVZE8  \n",
       "1  49.90  HBV00000U2B18  \n",
       "2   1.99   OFIS3101-080  \n",
       "3   2.25  HBV00000NVZBW  \n",
       "4   9.95  HBV00000NE0T4  "
      ]
     },
     "execution_count": 5,
     "metadata": {},
     "output_type": "execute_result"
    }
   ],
   "source": [
    "Events.head()"
   ]
  },
  {
   "cell_type": "code",
   "execution_count": 6,
   "id": "24d51057",
   "metadata": {},
   "outputs": [
    {
     "data": {
      "text/plain": [
       "event        False\n",
       "sessionid    False\n",
       "eventtime    False\n",
       "price        False\n",
       "productid    False\n",
       "dtype: bool"
      ]
     },
     "execution_count": 6,
     "metadata": {},
     "output_type": "execute_result"
    }
   ],
   "source": [
    "Events.isnull().any()"
   ]
  },
  {
   "cell_type": "code",
   "execution_count": 7,
   "id": "28d1b402",
   "metadata": {},
   "outputs": [],
   "source": [
    "def PhraseData(data):\n",
    "        data_phrase = data.drop(columns=['productid'])\n",
    "        data_phrase['phrase'] = data_phrase[data_phrase.columns[0:4]].apply(lambda x: ','.join(x.dropna().astype(str)),axis=1)\n",
    "        data_phrase= data_phrase.drop(columns=['name','subcategory','brand','category'])\n",
    "       \n",
    "        return data_phrase"
   ]
  },
  {
   "cell_type": "code",
   "execution_count": 8,
   "id": "5c089c2c",
   "metadata": {},
   "outputs": [
    {
     "data": {
      "text/html": [
       "<div>\n",
       "<style scoped>\n",
       "    .dataframe tbody tr th:only-of-type {\n",
       "        vertical-align: middle;\n",
       "    }\n",
       "\n",
       "    .dataframe tbody tr th {\n",
       "        vertical-align: top;\n",
       "    }\n",
       "\n",
       "    .dataframe thead th {\n",
       "        text-align: right;\n",
       "    }\n",
       "</style>\n",
       "<table border=\"1\" class=\"dataframe\">\n",
       "  <thead>\n",
       "    <tr style=\"text-align: right;\">\n",
       "      <th></th>\n",
       "      <th>phrase</th>\n",
       "    </tr>\n",
       "  </thead>\n",
       "  <tbody>\n",
       "    <tr>\n",
       "      <th>0</th>\n",
       "      <td>PALETTE,KIŞISEL BAKIM,SAÇ BAKIMI,PALETTE KALIC...</td>\n",
       "    </tr>\n",
       "    <tr>\n",
       "      <th>1</th>\n",
       "      <td>BEST,PET SHOP,KEDI,BEST PET JÖLE İÇINDE PARÇA ...</td>\n",
       "    </tr>\n",
       "    <tr>\n",
       "      <th>2</th>\n",
       "      <td>TARIM KREDI,TEMEL GIDA,BAKLIYAT PIRINÇ MAKARNA...</td>\n",
       "    </tr>\n",
       "    <tr>\n",
       "      <th>3</th>\n",
       "      <td>NAMET,ET BALIK ŞARKÜTERI,ŞARKÜTERI,NAMET FISTI...</td>\n",
       "    </tr>\n",
       "    <tr>\n",
       "      <th>4</th>\n",
       "      <td>MURATBEY,KAHVALTILIK VE SÜT,PEYNIR,MURATBEY BU...</td>\n",
       "    </tr>\n",
       "  </tbody>\n",
       "</table>\n",
       "</div>"
      ],
      "text/plain": [
       "                                              phrase\n",
       "0  PALETTE,KIŞISEL BAKIM,SAÇ BAKIMI,PALETTE KALIC...\n",
       "1  BEST,PET SHOP,KEDI,BEST PET JÖLE İÇINDE PARÇA ...\n",
       "2  TARIM KREDI,TEMEL GIDA,BAKLIYAT PIRINÇ MAKARNA...\n",
       "3  NAMET,ET BALIK ŞARKÜTERI,ŞARKÜTERI,NAMET FISTI...\n",
       "4  MURATBEY,KAHVALTILIK VE SÜT,PEYNIR,MURATBEY BU..."
      ]
     },
     "execution_count": 8,
     "metadata": {},
     "output_type": "execute_result"
    }
   ],
   "source": [
    "c=PhraseData(Meta)\n",
    "c.head()"
   ]
  },
  {
   "cell_type": "code",
   "execution_count": 9,
   "id": "9bdb1f40",
   "metadata": {},
   "outputs": [],
   "source": [
    "def TransformedData(data_phrase, data):\n",
    "        object_count = CountVectorizer()\n",
    "        count_matrix = object_count.fit_transform(data['name'])\n",
    "\n",
    "        tfidf = TfidfVectorizer()\n",
    "        tfidf_matrix = tfidf.fit_transform(data_phrase['phrase'])\n",
    "\n",
    "        phrase_sparse = sp.hstack([count_matrix, tfidf_matrix], format='csr')\n",
    "        cosine_sim = cosine_similarity(phrase_sparse, phrase_sparse)\n",
    "        \n",
    "        return cosine_sim"
   ]
  },
  {
   "cell_type": "code",
   "execution_count": 10,
   "id": "cbce5a95",
   "metadata": {},
   "outputs": [
    {
     "name": "stdout",
     "output_type": "stream",
     "text": [
      "[[1.         0.         0.         ... 0.00195029 0.00184491 0.00146839]\n",
      " [0.         1.         0.         ... 0.         0.         0.        ]\n",
      " [0.         0.         1.         ... 0.         0.         0.        ]\n",
      " ...\n",
      " [0.00195029 0.         0.         ... 1.         0.21658714 0.01102765]\n",
      " [0.00184491 0.         0.         ... 0.21658714 1.         0.00868691]\n",
      " [0.00146839 0.         0.         ... 0.01102765 0.00868691 1.        ]]\n"
     ]
    }
   ],
   "source": [
    "t=TransformedData(c,Meta)\n",
    "print(t)"
   ]
  },
  {
   "cell_type": "code",
   "execution_count": 11,
   "id": "64040aae",
   "metadata": {},
   "outputs": [],
   "source": [
    "def FindProductsWithRelatedSessionId(sessionId,dataFrame):\n",
    "\n",
    "    itemsList = []\n",
    "    CardItemsId = []\n",
    "    values = dataFrame.loc[dataFrame[\"sessionid\"] == sessionId]\n",
    "    itemsList.append(list(values[\"productid\"]))\n",
    "    count = 0\n",
    "    for i in range(len(itemsList[0])):\n",
    "        CardItemsId.append(itemsList[0][i])\n",
    "        count = count + 1\n",
    "\n",
    "    ItemsCount = count\n",
    "    print(CardItemsId)\n",
    "    return CardItemsId\n",
    "    "
   ]
  },
  {
   "cell_type": "code",
   "execution_count": null,
   "id": "39b58445",
   "metadata": {},
   "outputs": [],
   "source": []
  },
  {
   "cell_type": "code",
   "execution_count": 12,
   "id": "2d3488f2",
   "metadata": {},
   "outputs": [
    {
     "name": "stdout",
     "output_type": "stream",
     "text": [
      "['HBV00000UIYEF', 'HBV00000UIYEF', 'HBV00000UIYEF', 'HBV00000UIYEF', 'HBV00000UIYEF', 'HBV00000UIYEF', 'HBV00000UIYEF', 'HBV00000UIYEF', 'HBV00000UIYEF', 'HBV00000UIYEF', 'HBV00000UIYEF', 'HBV00000UIYEF', 'HBV00000UIYEF', 'HBV00000UIYEF', 'HBV00000UIYEF', 'HBV00000UIYEF', 'HBV00000UIYEF', 'HBV00000UIYEF', 'HBV00000UIYEF', 'HBV00000UIYEF', 'HBV00000UIYEF', 'HBV00000UIYEF']\n"
     ]
    }
   ],
   "source": [
    "cardsitem=FindProductsWithRelatedSessionId('f66b1455-d46c-45f5-b1c9-8af1d2fb12f3',Events)"
   ]
  },
  {
   "cell_type": "code",
   "execution_count": 13,
   "id": "18a33cd5",
   "metadata": {},
   "outputs": [
    {
     "name": "stdout",
     "output_type": "stream",
     "text": [
      "         productid    brand   category      subcategory  \\\n",
      "920  HBV00000UIYEF  ÇAMLICA  İÇECEKLER  GAZLI İÇECEKLER   \n",
      "\n",
      "                               name  \n",
      "920  ÇAMLICA LIGHT GAZOZ 200 ML CAM  \n",
      "         productid    brand   category      subcategory  \\\n",
      "920  HBV00000UIYEF  ÇAMLICA  İÇECEKLER  GAZLI İÇECEKLER   \n",
      "\n",
      "                               name  \n",
      "920  ÇAMLICA LIGHT GAZOZ 200 ML CAM  \n",
      "         productid    brand   category      subcategory  \\\n",
      "920  HBV00000UIYEF  ÇAMLICA  İÇECEKLER  GAZLI İÇECEKLER   \n",
      "\n",
      "                               name  \n",
      "920  ÇAMLICA LIGHT GAZOZ 200 ML CAM  \n",
      "         productid    brand   category      subcategory  \\\n",
      "920  HBV00000UIYEF  ÇAMLICA  İÇECEKLER  GAZLI İÇECEKLER   \n",
      "\n",
      "                               name  \n",
      "920  ÇAMLICA LIGHT GAZOZ 200 ML CAM  \n",
      "         productid    brand   category      subcategory  \\\n",
      "920  HBV00000UIYEF  ÇAMLICA  İÇECEKLER  GAZLI İÇECEKLER   \n",
      "\n",
      "                               name  \n",
      "920  ÇAMLICA LIGHT GAZOZ 200 ML CAM  \n",
      "         productid    brand   category      subcategory  \\\n",
      "920  HBV00000UIYEF  ÇAMLICA  İÇECEKLER  GAZLI İÇECEKLER   \n",
      "\n",
      "                               name  \n",
      "920  ÇAMLICA LIGHT GAZOZ 200 ML CAM  \n",
      "         productid    brand   category      subcategory  \\\n",
      "920  HBV00000UIYEF  ÇAMLICA  İÇECEKLER  GAZLI İÇECEKLER   \n",
      "\n",
      "                               name  \n",
      "920  ÇAMLICA LIGHT GAZOZ 200 ML CAM  \n",
      "         productid    brand   category      subcategory  \\\n",
      "920  HBV00000UIYEF  ÇAMLICA  İÇECEKLER  GAZLI İÇECEKLER   \n",
      "\n",
      "                               name  \n",
      "920  ÇAMLICA LIGHT GAZOZ 200 ML CAM  \n",
      "         productid    brand   category      subcategory  \\\n",
      "920  HBV00000UIYEF  ÇAMLICA  İÇECEKLER  GAZLI İÇECEKLER   \n",
      "\n",
      "                               name  \n",
      "920  ÇAMLICA LIGHT GAZOZ 200 ML CAM  \n",
      "         productid    brand   category      subcategory  \\\n",
      "920  HBV00000UIYEF  ÇAMLICA  İÇECEKLER  GAZLI İÇECEKLER   \n",
      "\n",
      "                               name  \n",
      "920  ÇAMLICA LIGHT GAZOZ 200 ML CAM  \n",
      "         productid    brand   category      subcategory  \\\n",
      "920  HBV00000UIYEF  ÇAMLICA  İÇECEKLER  GAZLI İÇECEKLER   \n",
      "\n",
      "                               name  \n",
      "920  ÇAMLICA LIGHT GAZOZ 200 ML CAM  \n",
      "         productid    brand   category      subcategory  \\\n",
      "920  HBV00000UIYEF  ÇAMLICA  İÇECEKLER  GAZLI İÇECEKLER   \n",
      "\n",
      "                               name  \n",
      "920  ÇAMLICA LIGHT GAZOZ 200 ML CAM  \n",
      "         productid    brand   category      subcategory  \\\n",
      "920  HBV00000UIYEF  ÇAMLICA  İÇECEKLER  GAZLI İÇECEKLER   \n",
      "\n",
      "                               name  \n",
      "920  ÇAMLICA LIGHT GAZOZ 200 ML CAM  \n",
      "         productid    brand   category      subcategory  \\\n",
      "920  HBV00000UIYEF  ÇAMLICA  İÇECEKLER  GAZLI İÇECEKLER   \n",
      "\n",
      "                               name  \n",
      "920  ÇAMLICA LIGHT GAZOZ 200 ML CAM  \n",
      "         productid    brand   category      subcategory  \\\n",
      "920  HBV00000UIYEF  ÇAMLICA  İÇECEKLER  GAZLI İÇECEKLER   \n",
      "\n",
      "                               name  \n",
      "920  ÇAMLICA LIGHT GAZOZ 200 ML CAM  \n",
      "         productid    brand   category      subcategory  \\\n",
      "920  HBV00000UIYEF  ÇAMLICA  İÇECEKLER  GAZLI İÇECEKLER   \n",
      "\n",
      "                               name  \n",
      "920  ÇAMLICA LIGHT GAZOZ 200 ML CAM  \n",
      "         productid    brand   category      subcategory  \\\n",
      "920  HBV00000UIYEF  ÇAMLICA  İÇECEKLER  GAZLI İÇECEKLER   \n",
      "\n",
      "                               name  \n",
      "920  ÇAMLICA LIGHT GAZOZ 200 ML CAM  \n",
      "         productid    brand   category      subcategory  \\\n",
      "920  HBV00000UIYEF  ÇAMLICA  İÇECEKLER  GAZLI İÇECEKLER   \n",
      "\n",
      "                               name  \n",
      "920  ÇAMLICA LIGHT GAZOZ 200 ML CAM  \n",
      "         productid    brand   category      subcategory  \\\n",
      "920  HBV00000UIYEF  ÇAMLICA  İÇECEKLER  GAZLI İÇECEKLER   \n",
      "\n",
      "                               name  \n",
      "920  ÇAMLICA LIGHT GAZOZ 200 ML CAM  \n",
      "         productid    brand   category      subcategory  \\\n",
      "920  HBV00000UIYEF  ÇAMLICA  İÇECEKLER  GAZLI İÇECEKLER   \n",
      "\n",
      "                               name  \n",
      "920  ÇAMLICA LIGHT GAZOZ 200 ML CAM  \n",
      "         productid    brand   category      subcategory  \\\n",
      "920  HBV00000UIYEF  ÇAMLICA  İÇECEKLER  GAZLI İÇECEKLER   \n",
      "\n",
      "                               name  \n",
      "920  ÇAMLICA LIGHT GAZOZ 200 ML CAM  \n",
      "         productid    brand   category      subcategory  \\\n",
      "920  HBV00000UIYEF  ÇAMLICA  İÇECEKLER  GAZLI İÇECEKLER   \n",
      "\n",
      "                               name  \n",
      "920  ÇAMLICA LIGHT GAZOZ 200 ML CAM  \n"
     ]
    }
   ],
   "source": [
    "for i in range(len(cardsitem)):\n",
    "    itemsList = []\n",
    "    values = Meta.loc[Meta[\"productid\"] == cardsitem[i]]\n",
    "    itemsList.append(list(values[\"name\"]))\n",
    "    print(values)\n",
    "                           "
   ]
  },
  {
   "cell_type": "code",
   "execution_count": 14,
   "id": "e6956c7b",
   "metadata": {},
   "outputs": [],
   "source": [
    "def RecommendedProducts(cardlist, data, combine, transform):\n",
    "        \n",
    "        newlist = list(dict.fromkeys(cardlist))\n",
    "        simScoresForAllProducts =  list()\n",
    "        for i in range(len(newlist)):\n",
    "            \n",
    "            try:\n",
    "                indices = pd.Series(data.index, index = data['productid'])\n",
    "                #print(indices['HBV00000NVZE8'])\n",
    "                # print(cardlist[i])\n",
    "                index = indices[newlist[i]]\n",
    "\n",
    "                sim_scores = list(enumerate(transform[index]))\n",
    "                sim_scores = sorted(sim_scores, key=lambda x: x[1], reverse=True)\n",
    "                sim_scores = sim_scores[1:11]\n",
    "\n",
    "                for i in range(len(sim_scores)):\n",
    "                    simScoresForAllProducts.append(sim_scores[i])\n",
    "            except:\n",
    "                print(\"Product has no brand\")\n",
    "\n",
    "        \n",
    "        simScoresForAllProducts.sort()\n",
    "        print(simScoresForAllProducts)\n",
    "        \n",
    "        product_indices = [i[0] for i in simScoresForAllProducts[1:11]]\n",
    "\n",
    "        product_id = data['productid'].iloc[product_indices]\n",
    "        product_brand = data['brand'].iloc[product_indices]\n",
    "        product_category = data['category'].iloc[product_indices]\n",
    "        product_subcategory = data['subcategory'].iloc[product_indices]\n",
    "        product_name = data['name'].iloc[product_indices]\n",
    "\n",
    "        recommendation_data = pd.DataFrame(columns=['productid','brand', 'category','subcategory','name'])\n",
    "\n",
    "        recommendation_data['productid'] = product_id\n",
    "        recommendation_data['brand'] = product_brand\n",
    "        recommendation_data['category'] = product_category\n",
    "        recommendation_data['subcategory'] = product_subcategory\n",
    "        recommendation_data['name'] = product_name\n",
    "\n",
    "        return recommendation_data"
   ]
  },
  {
   "cell_type": "code",
   "execution_count": 15,
   "id": "76d2bd8c",
   "metadata": {},
   "outputs": [
    {
     "name": "stdout",
     "output_type": "stream",
     "text": [
      "[(253, 0.5371105831491507), (341, 0.5890969625071492), (523, 0.7691529366250116), (643, 0.7688705242838757), (835, 0.5634414865778319), (969, 0.5371105831491507), (2077, 0.6647009616560932), (2728, 0.5767100799945043), (6173, 0.6974603618736324), (6350, 0.664531135506103)]\n",
      "[{'productid': 'HBV00000D1PZK', 'brand': 'FORA', 'category': 'KAHVALTILIK VE SÜT', 'subcategory': 'ZEYTIN', 'name': 'FORA ZEYTIN GEMLIK ÇEŞIDI DOĞAL SIYAH ZEYTIN 500 GR'}, {'productid': 'HBV00000D1PZO', 'brand': 'FORA', 'category': 'KAHVALTILIK VE SÜT', 'subcategory': 'ZEYTIN', 'name': 'FORA ZEYTIN AZ TUZLU SIYAH ZEYTIN 800 GR (L /231-260)'}, {'productid': 'ZYBICN9310823', 'brand': 'FORA', 'category': 'KAHVALTILIK VE SÜT', 'subcategory': 'ZEYTIN', 'name': 'FORA ZEYTIN AZ TUZLU SIYAH ZEYTIN 800 GR (S / 291-320)'}, {'productid': 'HBV00000NE1WZ', 'brand': 'FORA', 'category': 'KAHVALTILIK VE SÜT', 'subcategory': 'ZEYTIN', 'name': 'FORA GEMLIK KURU SELE SIYAH ZEYTIN 250 GR'}, {'productid': 'HBV00000AVVTL', 'brand': 'FORA', 'category': 'KAHVALTILIK VE SÜT', 'subcategory': 'ZEYTIN', 'name': 'FORA SIYAH ZEYTIN EZMESI 340 G'}, {'productid': 'HBV00000NE1X2', 'brand': 'FORA', 'category': 'KAHVALTILIK VE SÜT', 'subcategory': 'ZEYTIN', 'name': 'FORA FIT AZ TUZLU AZ YAĞLI SIYAH ZEYTIN 720 GR'}, {'productid': 'HBV00000NE1XJ', 'brand': 'CARREFOUR', 'category': 'KAHVALTILIK VE SÜT', 'subcategory': 'ZEYTIN', 'name': 'CARREFOUR GEMLIK SALAMURA SIYAH ZEYTIN 800 GR'}, {'productid': 'HBV00000NE1XD', 'brand': 'FORA', 'category': 'KAHVALTILIK VE SÜT', 'subcategory': 'ZEYTIN', 'name': 'FORA AZ TUZLU AZ YAĞLI SIYAH ZEYTIN 250 GR'}, {'productid': 'HBV00000D1Q18', 'brand': 'FORA', 'category': 'KAHVALTILIK VE SÜT', 'subcategory': 'ZEYTIN', 'name': 'FORA FIT AZ TUZLU AZ YAĞLI SIYAH ZEYTIN 430 GR'}]\n"
     ]
    }
   ],
   "source": [
    "recommendations=RecommendedProducts(cardsitem, Meta, c, t)\n",
    "recommendation_dict=recommendations.to_dict(\"records\")\n",
    "print(recommendation_dict)"
   ]
  },
  {
   "cell_type": "code",
   "execution_count": null,
   "id": "972aea60",
   "metadata": {},
   "outputs": [
    {
     "name": "stdout",
     "output_type": "stream",
     "text": [
      " * Serving Flask app \"__main__\" (lazy loading)\n",
      " * Environment: production\n",
      "\u001b[31m   WARNING: This is a development server. Do not use it in a production deployment.\u001b[0m\n",
      "\u001b[2m   Use a production WSGI server instead.\u001b[0m\n",
      " * Debug mode: off\n"
     ]
    },
    {
     "name": "stderr",
     "output_type": "stream",
     "text": [
      " * Running on all addresses.\n",
      "   WARNING: This is a development server. Do not use it in a production deployment.\n",
      " * Running on http://192.168.1.166:5000/ (Press CTRL+C to quit)\n",
      "192.168.1.166 - - [01/Jun/2022 23:46:45] \"GET /events?sessionid=f66b1455-d46c-45f5-b1c9-8af1d2fb12f3 HTTP/1.1\" 200 -\n"
     ]
    },
    {
     "name": "stdout",
     "output_type": "stream",
     "text": [
      "['HBV00000UIYEF', 'HBV00000UIYEF', 'HBV00000UIYEF', 'HBV00000UIYEF', 'HBV00000UIYEF', 'HBV00000UIYEF', 'HBV00000UIYEF', 'HBV00000UIYEF', 'HBV00000UIYEF', 'HBV00000UIYEF', 'HBV00000UIYEF', 'HBV00000UIYEF', 'HBV00000UIYEF', 'HBV00000UIYEF', 'HBV00000UIYEF', 'HBV00000UIYEF', 'HBV00000UIYEF', 'HBV00000UIYEF', 'HBV00000UIYEF', 'HBV00000UIYEF', 'HBV00000UIYEF', 'HBV00000UIYEF']\n",
      "[(253, 0.5371105831491507), (341, 0.5890969625071492), (523, 0.7691529366250116), (643, 0.7688705242838757), (835, 0.5634414865778319), (969, 0.5371105831491507), (2077, 0.6647009616560932), (2728, 0.5767100799945043), (6173, 0.6974603618736324), (6350, 0.664531135506103)]\n"
     ]
    },
    {
     "name": "stderr",
     "output_type": "stream",
     "text": [
      "192.168.1.166 - - [01/Jun/2022 23:46:49] \"GET / HTTP/1.1\" 404 -\n",
      "192.168.1.166 - - [01/Jun/2022 23:47:00] \"GET /events?sessionid=f66b1455-d46c-45f5-b1c9-8af1d2fb12f3 HTTP/1.1\" 200 -\n"
     ]
    },
    {
     "name": "stdout",
     "output_type": "stream",
     "text": [
      "['HBV00000UIYEF', 'HBV00000UIYEF', 'HBV00000UIYEF', 'HBV00000UIYEF', 'HBV00000UIYEF', 'HBV00000UIYEF', 'HBV00000UIYEF', 'HBV00000UIYEF', 'HBV00000UIYEF', 'HBV00000UIYEF', 'HBV00000UIYEF', 'HBV00000UIYEF', 'HBV00000UIYEF', 'HBV00000UIYEF', 'HBV00000UIYEF', 'HBV00000UIYEF', 'HBV00000UIYEF', 'HBV00000UIYEF', 'HBV00000UIYEF', 'HBV00000UIYEF', 'HBV00000UIYEF', 'HBV00000UIYEF']\n",
      "[(253, 0.5371105831491507), (341, 0.5890969625071492), (523, 0.7691529366250116), (643, 0.7688705242838757), (835, 0.5634414865778319), (969, 0.5371105831491507), (2077, 0.6647009616560932), (2728, 0.5767100799945043), (6173, 0.6974603618736324), (6350, 0.664531135506103)]\n"
     ]
    }
   ],
   "source": [
    "app = Flask(__name__)\n",
    "CORS(app) \n",
    "        \n",
    "@app.route('/events', methods=['GET'])\n",
    "def Recommended_Products():\n",
    "\n",
    "        SessionId =  request.args.get('sessionid')\n",
    "        CardList = FindProductsWithRelatedSessionId(SessionId,Events)\n",
    "        RecommendData = RecommendedProducts(cardsitem, Meta, c, t)\n",
    "        recommendation_dict=RecommendData.to_dict(\"records\")\n",
    "        \n",
    "        return jsonify(recommendation_dict)\n",
    "\n",
    "app.run(host='0.0.0.0')"
   ]
  },
  {
   "cell_type": "code",
   "execution_count": null,
   "id": "1ae7476b",
   "metadata": {},
   "outputs": [],
   "source": []
  },
  {
   "cell_type": "code",
   "execution_count": null,
   "id": "c55e5403",
   "metadata": {},
   "outputs": [],
   "source": []
  }
 ],
 "metadata": {
  "kernelspec": {
   "display_name": "Python 3 (ipykernel)",
   "language": "python",
   "name": "python3"
  },
  "language_info": {
   "codemirror_mode": {
    "name": "ipython",
    "version": 3
   },
   "file_extension": ".py",
   "mimetype": "text/x-python",
   "name": "python",
   "nbconvert_exporter": "python",
   "pygments_lexer": "ipython3",
   "version": "3.9.7"
  }
 },
 "nbformat": 4,
 "nbformat_minor": 5
}
